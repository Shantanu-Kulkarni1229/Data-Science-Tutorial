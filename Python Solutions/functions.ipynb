{
 "cells": [
  {
   "cell_type": "markdown",
   "metadata": {},
   "source": [
    "Write a function called calculate_area that takes base and height as an input and returns and area of a triangle. Equation of an area of a triangle is,\n",
    "area = (1/2)*base*height"
   ]
  },
  {
   "cell_type": "code",
   "execution_count": 7,
   "metadata": {},
   "outputs": [
    {
     "name": "stdout",
     "output_type": "stream",
     "text": [
      "The area of the triangle is \n",
      "100.0\n",
      "The area of the triangle is \n",
      "200.0\n",
      "The area of the triangle is \n",
      "2200.0\n",
      "The area of the triangle is \n",
      "10.0\n",
      "The area of the triangle is \n",
      "1000.0\n"
     ]
    }
   ],
   "source": [
    "def  calculate_area(base, height):\n",
    "    area = (base * height) / 2\n",
    "    print(\"The area of the triangle is \") \n",
    "    print(area)\n",
    "\n",
    "\n",
    "\n",
    "\n",
    "calculate_area(10, 20)\n",
    "calculate_area(20, 20)\n",
    "calculate_area(220, 20)\n",
    "calculate_area(1, 20)\n",
    "calculate_area(100, 20)\n"
   ]
  },
  {
   "cell_type": "markdown",
   "metadata": {},
   "source": [
    "Modify above function to take third parameter shape type. It can be either \"triangle\" or \"rectangle\". Based on shape type it will calculate area. Equation of rectangle's area is,\n",
    "rectangle area=length*width\n",
    "If no shape is supplied then it should take triangle as a default shape"
   ]
  },
  {
   "cell_type": "code",
   "execution_count": 8,
   "metadata": {},
   "outputs": [
    {
     "name": "stdout",
     "output_type": "stream",
     "text": [
      "The area of the rectangle is \n",
      "200\n",
      "The area of the triangle is \n",
      "200.0\n",
      "The area of the rectangle is \n",
      "4400\n",
      "The area of the triangle is \n",
      "10.0\n",
      "Invalid shape\n"
     ]
    }
   ],
   "source": [
    "def calculate_area(base, height, shape):\n",
    "    if shape == 'rectangle':    \n",
    "        area = base * height\n",
    "        print(\"The area of the rectangle is \") \n",
    "        print(area)\n",
    "    elif shape == 'triangle':\n",
    "        area = (base * height) / 2\n",
    "        print(\"The area of the triangle is \") \n",
    "        print(area)\n",
    "    else:\n",
    "        print(\"Invalid shape\")\n",
    "    \n",
    "\n",
    "calculate_area(10, 20, 'rectangle')\n",
    "calculate_area(20, 20, 'triangle')\n",
    "calculate_area(220, 20, 'rectangle')\n",
    "calculate_area(1, 20, 'triangle')\n",
    "calculate_area(100, 20, 'square')"
   ]
  },
  {
   "cell_type": "markdown",
   "metadata": {},
   "source": [
    "Write a function called print_pattern that takes integer number as an argument and prints following pattern if input number is 3,\n",
    "*\n",
    "**\n",
    "***\n",
    "if input is 4 then it should print\n",
    "*\n",
    "**\n",
    "***\n",
    "****\n",
    "Basically number of lines it prints is equal to that number. (Hint: you need to use two for loops)"
   ]
  },
  {
   "cell_type": "code",
   "execution_count": 14,
   "metadata": {},
   "outputs": [
    {
     "name": "stdout",
     "output_type": "stream",
     "text": [
      "\n",
      "\n",
      "* \n",
      "\n",
      "* * \n",
      "\n",
      "* * * \n",
      "\n",
      "\n",
      "\n",
      "* \n",
      "\n",
      "* * \n",
      "\n",
      "* * * \n",
      "\n",
      "* * * * \n",
      "\n"
     ]
    }
   ],
   "source": [
    "def print_pattern (i):\n",
    "    if i == 3:\n",
    "        for i in range (1,i+2):\n",
    "            for j in range (1,i):\n",
    "                print(\"*\", end = \" \")\n",
    "            print(\"\\n\")\n",
    "    else:\n",
    "        for i in range (1,i+2):\n",
    "            for j in range (1,i):\n",
    "                print(\"*\", end = \" \")\n",
    "            print(\"\\n\") \n",
    "        \n",
    "print_pattern(3)\n",
    "print_pattern(4)"
   ]
  },
  {
   "cell_type": "markdown",
   "metadata": {},
   "source": []
  },
  {
   "cell_type": "code",
   "execution_count": null,
   "metadata": {},
   "outputs": [],
   "source": []
  }
 ],
 "metadata": {
  "kernelspec": {
   "display_name": ".venv",
   "language": "python",
   "name": "python3"
  },
  "language_info": {
   "codemirror_mode": {
    "name": "ipython",
    "version": 3
   },
   "file_extension": ".py",
   "mimetype": "text/x-python",
   "name": "python",
   "nbconvert_exporter": "python",
   "pygments_lexer": "ipython3",
   "version": "3.13.0"
  }
 },
 "nbformat": 4,
 "nbformat_minor": 2
}
