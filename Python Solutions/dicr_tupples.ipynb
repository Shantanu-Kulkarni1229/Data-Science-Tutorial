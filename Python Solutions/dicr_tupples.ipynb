{
 "cells": [
  {
   "cell_type": "markdown",
   "metadata": {},
   "source": [
    "We have following information on countries and their population (population is in crores),\n",
    "\n",
    "Country\tPopulation\n",
    "China\t143\n",
    "India\t136\n",
    "USA\t32\n",
    "Pakistan\t21\n",
    "Using above create a dictionary of countries and its population\n",
    "Write a program that asks user for three type of inputs,\n",
    "print: if user enter print then it should print all countries with their population in this format,\n",
    "china==>143\n",
    "india==>136\n",
    "usa==>32\n",
    "pakistan==>21\n",
    "add: if user input add then it should further ask for a country name to add. If country already exist in our dataset then it should print that it exist and do nothing. If it doesn't then it asks for population and add that new country/population in our dictionary and print it\n",
    "remove: when user inputs remove it should ask for a country to remove. If country exist in our dictionary then remove it and print new dictionary using format shown above in (a). Else print that country doesn't exist!\n",
    "query: on this again ask user for which country he or she wants to query. When user inputs that country it will print population of that country."
   ]
  },
  {
   "cell_type": "code",
   "execution_count": 8,
   "metadata": {},
   "outputs": [
    {
     "name": "stdout",
     "output_type": "stream",
     "text": [
      "Country dosent exists\n",
      "{'China': 143, 'India': 136, 'Pakistan': 21}\n"
     ]
    }
   ],
   "source": [
    "country_population = {\n",
    "    \"China\" : 143,\n",
    "    \"India\" : 136,\n",
    "    \"Usa\": 32,\n",
    "    \"Pakistan\": 21   \n",
    "}\n",
    "\n",
    "user_Input = input(\"Enter \"\"print\"\" to print all countries and its population , add to add a new country and remove to delete a country\")\n",
    "\n",
    "if user_Input == \"print\":\n",
    "    print(country_population)\n",
    "elif user_Input == \"add\":\n",
    "    country_name = input(\"Enter country name\")\n",
    "    if country_name in country_population:\n",
    "        print(\"Country already exists\")\n",
    "    population = int(input(\"Enter population\"))\n",
    "    country_population[country_name] = population\n",
    "    print(country_population)\n",
    "elif user_Input == \"remove\":\n",
    "     country_name = input(\"Enter country name\")\n",
    "     if country_name in country_population:\n",
    "            print(\"Country dosent exists\")\n",
    "     country_population.pop(country_name)\n",
    "     print(country_population)\n",
    "    \n"
   ]
  },
  {
   "cell_type": "markdown",
   "metadata": {},
   "source": [
    "You are given following list of stocks and their prices in last 3 days,\n",
    "\n",
    "Stock\tPrices\n",
    "info\t[600,630,620]\n",
    "ril\t[1430,1490,1567]\n",
    "mtl\t[234,180,160]\n",
    "Write a program that asks user for operation. Value of operations could be,\n",
    "print: When user enters print it should print following,\n",
    "info ==> [600, 630, 620] ==> avg:  616.67\n",
    "ril ==> [1430, 1490, 1567] ==> avg:  1495.67\n",
    "mtl ==> [234, 180, 160] ==> avg:  191.33\n",
    "add: When user enters 'add', it asks for stock ticker and price. If stock already exist in your list (like info, ril etc) then it will append the price to the list. Otherwise it will create new entry in your dictionary. For example entering 'tata' and 560 will add tata ==> [560] to the dictionary of stocks."
   ]
  },
  {
   "cell_type": "code",
   "execution_count": null,
   "metadata": {},
   "outputs": [],
   "source": [
    "Stock= {\n",
    "    \"info\" : [600,630,620],\n",
    "    \"ril\" : [1430,1490,1567],\n",
    "    \"mtl\" : [234,180,160]\n",
    "}\n",
    "\n",
    "user_input = input(\"Enter \"\"print\"\" to print all stocks and its price , add to add a new stock and remove to delete a stock\")\n",
    "\n",
    "if user_input == \"print\":\n",
    "    print(Stock)\n",
    "elif user_input == \"add\":\n",
    "    stock_name = input(\"Enter stock name\")\n",
    "    if stock_name in Stock:\n",
    "        print(\"Stock already exists\")\n",
    "    price = int(input(\"Enter price\"))\n",
    "    Stock[stock_name] = price\n",
    "    print(Stock)\n",
    "elif user_input == \"remove\":\n",
    "     stock_name = input(\"Enter stock name\")\n",
    "     if stock_name in Stock:\n",
    "            print(\"Stock dosent exists\")\n",
    "     Stock.pop(stock_name)\n",
    "     print(Stock)"
   ]
  },
  {
   "cell_type": "markdown",
   "metadata": {},
   "source": [
    "Write circle_calc() function that takes radius of a circle as an input from user and then it calculates and returns area, circumference and diameter. You should get these values in your main program by calling circle_calc function and then print them"
   ]
  },
  {
   "cell_type": "code",
   "execution_count": 10,
   "metadata": {},
   "outputs": [
    {
     "name": "stdout",
     "output_type": "stream",
     "text": [
      "Area :  1256 Circumference :  126 Diameter :  40\n"
     ]
    }
   ],
   "source": [
    "def circle_cal(r):\n",
    "    area = round(3.14*r*r)\n",
    "    circumference = round(2*3.14*r)\n",
    "    diameter = round(2*r)\n",
    "    print(\"Area : \",area,\"Circumference : \",circumference,\"Diameter : \",diameter)\n",
    "    \n",
    "r = int(input(\"Enter radius\"))\n",
    "circle_cal(r)"
   ]
  }
 ],
 "metadata": {
  "kernelspec": {
   "display_name": ".venv",
   "language": "python",
   "name": "python3"
  },
  "language_info": {
   "codemirror_mode": {
    "name": "ipython",
    "version": 3
   },
   "file_extension": ".py",
   "mimetype": "text/x-python",
   "name": "python",
   "nbconvert_exporter": "python",
   "pygments_lexer": "ipython3",
   "version": "3.13.0"
  }
 },
 "nbformat": 4,
 "nbformat_minor": 2
}
