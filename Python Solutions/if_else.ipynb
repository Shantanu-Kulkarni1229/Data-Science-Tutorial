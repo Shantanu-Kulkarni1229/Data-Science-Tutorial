{
 "cells": [
  {
   "cell_type": "markdown",
   "metadata": {},
   "source": [
    "Using following list of cities per country,\n",
    "india = [\"mumbai\", \"banglore\", \"chennai\", \"delhi\"]\n",
    "pakistan = [\"lahore\",\"karachi\",\"islamabad\"]\n",
    "bangladesh = [\"dhaka\", \"khulna\", \"rangpur\"]\n",
    "Write a program that asks user to enter a city name and it should tell which country the city belongs to\n",
    "Write a program that asks user to enter two cities and it tells you if they both are in same country or not. For example if I enter mumbai and chennai, it will print \"Both cities are in India\" but if I enter mumbai and dhaka it should print \"They don't belong to same country\""
   ]
  },
  {
   "cell_type": "code",
   "execution_count": 1,
   "metadata": {},
   "outputs": [
    {
     "name": "stdout",
     "output_type": "stream",
     "text": [
      "Your city is in india\n",
      "Your city is in india\n"
     ]
    }
   ],
   "source": [
    "india = [\"mumbai\", \"banglore\", \"chennai\", \"delhi\"]\n",
    "pakistan = [\"lahore\",\"karachi\",\"islamabad\"]\n",
    "bangladesh = [\"dhaka\", \"khulna\", \"rangpur\"]\n",
    "\n",
    "user_city = input(\"Enter your city: \")\n",
    "\n",
    "if user_city in india:\n",
    "    print(\"Your city is in india\")\n",
    "elif user_city in pakistan:\n",
    "    print(\"Your city is in pakistan\")\n",
    "elif user_city in bangladesh:\n",
    "    print(\"Your city is in bangladesh\")\n",
    "else:\n",
    "    print(\"Your city is not in any country\")\n",
    "\n",
    "#2\n",
    "\n",
    "user_city1 = input(\"Enter your city no 1: \")\n",
    "user_city2 = input(\"Enter your city no 2: \")\n",
    "\n",
    "if user_city1 and user_city2 in india:\n",
    "    print(\"Your city is in india\")\n",
    "elif user_city1 and user_city2 in pakistan:\n",
    "    print(\"Your city is in pakistan\")\n",
    "elif user_city1 and user_city2 in bangladesh:\n",
    "    print(\"Your city is in bangladesh\")\n",
    "else:\n",
    "    print(\"Your city is not in any country\")"
   ]
  },
  {
   "cell_type": "markdown",
   "metadata": {},
   "source": [
    "Write a python program that can tell you if your sugar is normal or not. Normal fasting level sugar range is 80 to 100.\n",
    "Ask user to enter his fasting sugar level\n",
    "If it is below 80 to 100 range then print that sugar is low\n",
    "If it is above 100 then print that it is high otherwise print that it is normal"
   ]
  },
  {
   "cell_type": "code",
   "execution_count": 5,
   "metadata": {},
   "outputs": [
    {
     "name": "stdout",
     "output_type": "stream",
     "text": [
      "high\n"
     ]
    }
   ],
   "source": [
    "Sugar_level = int(input(\"enter your sugar level\"))\n",
    "if Sugar_level <80 and Sugar_level >0:\n",
    "    print(\"low\")\n",
    "elif Sugar_level >80 and Sugar_level <100:\n",
    "    print(\"normal\")\n",
    "elif Sugar_level >100:\n",
    "    print(\"high\")"
   ]
  },
  {
   "cell_type": "markdown",
   "metadata": {},
   "source": []
  }
 ],
 "metadata": {
  "kernelspec": {
   "display_name": ".venv",
   "language": "python",
   "name": "python3"
  },
  "language_info": {
   "codemirror_mode": {
    "name": "ipython",
    "version": 3
   },
   "file_extension": ".py",
   "mimetype": "text/x-python",
   "name": "python",
   "nbconvert_exporter": "python",
   "pygments_lexer": "ipython3",
   "version": "3.13.0"
  }
 },
 "nbformat": 4,
 "nbformat_minor": 2
}
