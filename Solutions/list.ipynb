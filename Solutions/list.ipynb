{
 "cells": [
  {
   "cell_type": "markdown",
   "metadata": {},
   "source": [
    "Exercise: Python Lists\n",
    "Let us say your expense for every month are listed below,\n",
    "January - 2200\n",
    "February - 2350\n",
    "March - 2600\n",
    "April - 2130\n",
    "May - 2190\n",
    "Create a list to store these monthly expenses and using that find out,\n",
    "\n",
    "1. In Feb, how many dollars you spent extra compare to January?\n",
    "2. Find out your total expense in first quarter (first three months) of the year.\n",
    "3. Find out if you spent exactly 2000 dollars in any month\n",
    "4. June month just finished and your expense is 1980 dollar. Add this item to our monthly expense list\n",
    "5. You returned an item that you bought in a month of April and\n",
    "got a refund of 200$. Make a correction to your monthly expense list\n",
    "based on this"
   ]
  },
  {
   "cell_type": "code",
   "execution_count": 1,
   "metadata": {},
   "outputs": [
    {
     "name": "stdout",
     "output_type": "stream",
     "text": [
      "150\n",
      "7150\n",
      "2000 was not spent\n",
      "[2200, 2350, 2600, 2130, 2190, 1980]\n",
      "[2200, 2350, 2600, 1930, 2190, 1980]\n"
     ]
    }
   ],
   "source": [
    "Year_expense = [2200, 2350,2600,2130,2190]\n",
    "#1\n",
    "febSpent = Year_expense[1] - Year_expense[0]\n",
    "print(febSpent)\n",
    "#2\n",
    "QuaterSpent = Year_expense[0] + Year_expense[1] + Year_expense[2]\n",
    "print(QuaterSpent)\n",
    "#3\n",
    "if 2000 in Year_expense:\n",
    "    print(\"2000 was spent\")\n",
    "else:\n",
    "    print(\"2000 was not spent\")\n",
    "#4\n",
    "Year_expense.append(1980)\n",
    "print(Year_expense)\n",
    "#5\n",
    "Year_expense[3]=Year_expense[3]-200\n",
    "print(Year_expense)"
   ]
  },
  {
   "cell_type": "markdown",
   "metadata": {},
   "source": [
    "You have a list of your favourite marvel super heros.\n",
    "heros=['spider man','thor','hulk','iron man','captain america']\n",
    "Using this find out,\n",
    "\n",
    "1. Length of the list\n",
    "2. Add 'black panther' at the end of this list\n",
    "3. You realize that you need to add 'black panther' after 'hulk',\n",
    "   so remove it from the list first and then add it after 'hulk'\n",
    "4. Now you don't like thor and hulk because they get angry easily :\n",
    "   So you want to remove thor and hulk from list and replace them with doctor strange (because he is cool).\n",
    "   Do that with one line of code.\n",
    "5. Sort the heros list in alphabetical order (Hint. Use dir() functions to list down all functions available in list)\n"
   ]
  },
  {
   "cell_type": "code",
   "execution_count": 7,
   "metadata": {},
   "outputs": [
    {
     "name": "stdout",
     "output_type": "stream",
     "text": [
      "5\n",
      "['spider man', 'thor', 'hulk', 'iron man', 'captain america', 'black panther']\n",
      "['spider man', 'thor', 'hulk', 'black panther', 'iron man', 'captain america']\n",
      "['spider man', 'doctor strange', 'black panther', 'iron man', 'captain america']\n",
      "['black panther', 'captain america', 'doctor strange', 'iron man', 'spider man']\n"
     ]
    }
   ],
   "source": [
    "heros=['spider man','thor','hulk','iron man','captain america']\n",
    "\n",
    "length = heros.__len__()\n",
    "print(length)\n",
    "\n",
    "#2\n",
    "heros.append('black panther')\n",
    "print(heros)\n",
    "\n",
    "#3\n",
    "heros.remove('black panther')\n",
    "heros.insert(3,'black panther')\n",
    "print(heros)    \n",
    "\n",
    "#4\n",
    "heros.remove('hulk')\n",
    "heros.remove('thor')\n",
    "heros.insert(1,'doctor strange')\n",
    "print(heros)\n",
    "\n",
    "#5\n",
    "heros.sort()\n",
    "print(heros)\n"
   ]
  }
 ],
 "metadata": {
  "kernelspec": {
   "display_name": ".venv",
   "language": "python",
   "name": "python3"
  },
  "language_info": {
   "codemirror_mode": {
    "name": "ipython",
    "version": 3
   },
   "file_extension": ".py",
   "mimetype": "text/x-python",
   "name": "python",
   "nbconvert_exporter": "python",
   "pygments_lexer": "ipython3",
   "version": "3.13.0"
  }
 },
 "nbformat": 4,
 "nbformat_minor": 2
}
