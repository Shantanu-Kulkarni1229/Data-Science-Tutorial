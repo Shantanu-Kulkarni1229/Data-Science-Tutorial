{
 "cells": [
  {
   "cell_type": "markdown",
   "metadata": {},
   "source": [
    "After flipping a coin 10 times you got this result,\n",
    "result = [\"heads\",\"tails\",\"tails\",\"heads\",\"tails\",\"heads\",\"heads\",\"tails\",\"tails\",\"tails\"]\n",
    "Using for loop figure out how many times you got heads"
   ]
  },
  {
   "cell_type": "code",
   "execution_count": 3,
   "metadata": {},
   "outputs": [
    {
     "name": "stdout",
     "output_type": "stream",
     "text": [
      "total heads are 4\n",
      "total tails are 6\n"
     ]
    }
   ],
   "source": [
    "result = [\"heads\",\"tails\",\"tails\",\"heads\",\"tails\",\"heads\",\"heads\",\"tails\",\"tails\",\"tails\"]\n",
    "count_forhead =0\n",
    "counnt_fortail = 0\n",
    "for i in range(len(result)):\n",
    "    if result[i] == \"heads\":\n",
    "        count_forhead += 1\n",
    "    else:\n",
    "        counnt_fortail += 1  \n",
    "print(\"total heads are\", count_forhead)\n",
    "print(\"total tails are\", counnt_fortail)"
   ]
  },
  {
   "cell_type": "markdown",
   "metadata": {},
   "source": [
    "Print square of all numbers between 1 to 10 except even numbers"
   ]
  },
  {
   "cell_type": "code",
   "execution_count": 5,
   "metadata": {},
   "outputs": [
    {
     "name": "stdout",
     "output_type": "stream",
     "text": [
      "square of 1 is 1\n",
      "square of 3 is 9\n",
      "square of 5 is 25\n",
      "square of 7 is 49\n",
      "square of 9 is 81\n"
     ]
    }
   ],
   "source": [
    "for i in range (1,11):\n",
    "    if i % 2 == 0:\n",
    "        continue\n",
    "    \n",
    "    print(\"square of\", i, \"is\", i*i)"
   ]
  },
  {
   "cell_type": "markdown",
   "metadata": {},
   "source": [
    "Your monthly expense list (from Jan to May) looks like this,\n",
    "expense_list = [2340, 2500, 2100, 3100, 2980]\n",
    "Write a program that asks you to enter an expense amount and program should tell you in which month that expense occurred. If expense is not found then it should print that as well.\n",
    "\n"
   ]
  },
  {
   "cell_type": "code",
   "execution_count": 6,
   "metadata": {},
   "outputs": [
    {
     "name": "stdout",
     "output_type": "stream",
     "text": [
      "Expense found in month January\n"
     ]
    }
   ],
   "source": [
    "expense_list = [2340, 2500, 2100, 3100, 2980]\n",
    "expense_month = [\"January\", \"February\", \"March\", \"April\", \"May\"]\n",
    "expense_amount = int(input (\"Enter any expense amount: \"))\n",
    "\n",
    "for i in range(len(expense_list)):\n",
    "    if expense_list[i] == expense_amount:\n",
    "        print(\"Expense found in month\", expense_month[i])\n",
    "        break\n",
    "else:\n",
    "    print(\"Expense not found in the list\")"
   ]
  },
  {
   "cell_type": "markdown",
   "metadata": {},
   "source": [
    "Lets say you are running a 5 km race. Write a program that,\n",
    "\n",
    "Upon completing each 1 km asks you \"are you tired?\"\n",
    "If you reply \"yes\" then it should break and print \"you didn't finish the race\"\n",
    "If you reply \"no\" then it should continue and ask \"are you tired\" on every km\n",
    "If you finish all 5 km then it should print congratulations message"
   ]
  },
  {
   "cell_type": "code",
   "execution_count": 9,
   "metadata": {},
   "outputs": [
    {
     "name": "stdout",
     "output_type": "stream",
     "text": [
      "you finished the race\n"
     ]
    }
   ],
   "source": [
    "for i in range (1,6):\n",
    "    if i < 5:\n",
    "        user_reply = input(\"are you tired\")\n",
    "        if user_reply == \"yes\":\n",
    "             print(\"you didnt finish the race\") \n",
    "             break      \n",
    "        elif user_reply == \"no\":\n",
    "            continue\n",
    "    else:\n",
    "        print(\"you finished the race\")\n"
   ]
  },
  {
   "cell_type": "markdown",
   "metadata": {},
   "source": [
    "Write a program that prints following shape\n",
    "\n",
    "*\n",
    "**\n",
    "***\n",
    "****\n",
    "*****"
   ]
  },
  {
   "cell_type": "code",
   "execution_count": 11,
   "metadata": {},
   "outputs": [
    {
     "name": "stdout",
     "output_type": "stream",
     "text": [
      "\n",
      "* \n",
      "* * \n",
      "* * * \n",
      "* * * * \n",
      "* * * * * \n"
     ]
    }
   ],
   "source": [
    "for i in range (1,7):\n",
    "    for j in range (1,i):\n",
    "        print(\"*\", end = \" \")\n",
    "    print()"
   ]
  }
 ],
 "metadata": {
  "kernelspec": {
   "display_name": ".venv",
   "language": "python",
   "name": "python3"
  },
  "language_info": {
   "codemirror_mode": {
    "name": "ipython",
    "version": 3
   },
   "file_extension": ".py",
   "mimetype": "text/x-python",
   "name": "python",
   "nbconvert_exporter": "python",
   "pygments_lexer": "ipython3",
   "version": "3.13.0"
  }
 },
 "nbformat": 4,
 "nbformat_minor": 2
}
